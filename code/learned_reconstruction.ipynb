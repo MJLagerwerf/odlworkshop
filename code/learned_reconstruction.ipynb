{
 "cells": [
  {
   "cell_type": "markdown",
   "metadata": {},
   "source": [
    "## Learned Reconstruction\n",
    "\n",
    "This notebook demonstrates how to use ODL to perform learned reconstruction of the famous MNIST dataset.\n",
    "\n",
    "We demonstrate three ways of doing this\n",
    "\n",
    "* Fully learned reconstruction\n",
    "* Learned post-processing\n",
    "* Learned Primal-Dual reconstruction\n",
    "\n",
    "and we also compare to a simple FBP-based reconstruction, the results should be approximately\n",
    "\n",
    "| Method                 |   Error  |\n",
    "|:-----------------------|:--------:|\n",
    "| FBP                    | 0.1510   |\n",
    "| Fully learned          | 0.0240   |\n",
    "| FBP + learned denoiser | 0.0197   |\n",
    "| Learned Primal-Dual    | 0.0151   |\n",
    "\n"
   ]
  },
  {
   "cell_type": "markdown",
   "metadata": {},
   "source": [
    "# Download dependencies\n",
    "\n",
    "This commands installs all the needed dependencies if you have the absolute latest version of CUDA (version 9.0) and CuDNN 7.0. On the server provided for the course participants, this is the case. Otherwise `pip install tensorflow-gpu`  (for GPU) or `pip install tensorflow` (for CPU) should be enough."
   ]
  },
  {
   "cell_type": "code",
   "execution_count": null,
   "metadata": {
    "scrolled": true
   },
   "outputs": [],
   "source": [
    "! conda install nomkl numpy scipy matplotlib pytest -y\n",
    "! pip install https://github.com/odlgroup/odl/archive/master.zip\n",
    "! pip install https://raw.githubusercontent.com/lakshayg/tensorflow-build/master/tensorflow-1.4.0rc1-cp36-cp36m-linux_x86_64.whl\n",
    "! conda install -c astra-toolbox astra-toolbox -y"
   ]
  },
  {
   "cell_type": "markdown",
   "metadata": {},
   "source": [
    "# Import dependencies\n",
    "\n",
    "This should run without errors if all dependencies are installed properly."
   ]
  },
  {
   "cell_type": "code",
   "execution_count": null,
   "metadata": {
    "scrolled": true
   },
   "outputs": [],
   "source": [
    "import tensorflow as tf\n",
    "import numpy as np\n",
    "import matplotlib.pyplot as plt\n",
    "import odl\n",
    "import odl.contrib.tensorflow\n",
    "from tensorflow.examples.tutorials.mnist import input_data"
   ]
  },
  {
   "cell_type": "code",
   "execution_count": null,
   "metadata": {
    "collapsed": true,
    "scrolled": true
   },
   "outputs": [],
   "source": [
    "# Start a tensorflow session\n",
    "session = tf.InteractiveSession()\n",
    "\n",
    "# Set the random seed to enable reproducible code\n",
    "np.random.seed(0)"
   ]
  },
  {
   "cell_type": "markdown",
   "metadata": {},
   "source": [
    "# Create operators using ODL\n",
    "\n",
    "Here we create the needed operators in ODL as usual, we then convert them to tensorflow-compatible functions using the `odl.contrib.tensorflow.as_tensorflow_layer` function."
   ]
  },
  {
   "cell_type": "code",
   "execution_count": 3,
   "metadata": {
    "collapsed": true,
    "scrolled": true
   },
   "outputs": [],
   "source": [
    "# Create ODL data structures\n",
    "space = odl.uniform_discr([-14, -14], [14, 14], [28, 28],\n",
    "                          dtype='float32')\n",
    "\n",
    "geometry = odl.tomo.parallel_beam_geometry(space, num_angles=5)\n",
    "operator = odl.tomo.RayTransform(space, geometry)\n",
    "fbp_op = odl.tomo.fbp_op(operator)\n",
    "\n",
    "# Create tensorflow wrappers\n",
    "tf_op = odl.contrib.tensorflow.as_tensorflow_layer(operator)\n",
    "tf_op_adj = odl.contrib.tensorflow.as_tensorflow_layer(operator.adjoint)\n",
    "tf_fbp_op = odl.contrib.tensorflow.as_tensorflow_layer(fbp_op)"
   ]
  },
  {
   "cell_type": "markdown",
   "metadata": {},
   "source": [
    "# Get data and utilities\n",
    "\n",
    "We now need to get the data we will use, which in this case is the famous [MNIST](http://yann.lecun.com/exdb/mnist/) dataset, a set of digits 70000 hand-written digits, of which 60000 are used for training and 10000 for testing.\n",
    "\n",
    "In addition to this, we create a utility `generate_data` which generates sinograms for each digit, as well as a function `evaluate(...)` that we will use to evaluate how good a reconstruction is and `visualize(...)` which shows an example reconstruction."
   ]
  },
  {
   "cell_type": "code",
   "execution_count": 4,
   "metadata": {
    "scrolled": true
   },
   "outputs": [
    {
     "name": "stdout",
     "output_type": "stream",
     "text": [
      "Extracting MNIST_data\\train-images-idx3-ubyte.gz\n",
      "Extracting MNIST_data\\train-labels-idx1-ubyte.gz\n",
      "Extracting MNIST_data\\t10k-images-idx3-ubyte.gz\n",
      "Extracting MNIST_data\\t10k-labels-idx1-ubyte.gz\n"
     ]
    }
   ],
   "source": [
    "# Get MNIST data\n",
    "mnist = input_data.read_data_sets('MNIST_data')"
   ]
  },
  {
   "cell_type": "code",
   "execution_count": 5,
   "metadata": {
    "collapsed": true,
    "scrolled": true
   },
   "outputs": [],
   "source": [
    "def generate_data(images):\n",
    "    \"\"\"Generate data from images\n",
    "    \n",
    "    Parameters\n",
    "    ----------\n",
    "    images : np.array of shape [Batch, 28, 28, 1]\n",
    "        The images (in reconstruction space) which we should create data for.\n",
    "        \n",
    "    Returns\n",
    "    -------\n",
    "    sinograms : np.array of shape [Batch, 5, 41, 1]\n",
    "        Noisy sinograms corresponding to ``images``\n",
    "    \"\"\"\n",
    "    data = [operator(image.squeeze()).asarray() +\n",
    "            np.random.randn(*operator.range.shape) for image in images]\n",
    "    return np.array(data)[..., None]"
   ]
  },
  {
   "cell_type": "code",
   "execution_count": 6,
   "metadata": {
    "scrolled": true
   },
   "outputs": [],
   "source": [
    "# Read the first 1000 mnist test points\n",
    "batch = mnist.test.next_batch(1000)\n",
    "test_images = batch[0].reshape([-1, 28, 28, 1])\n",
    "\n",
    "# Create test data (persistent to save time)\n",
    "test_images = test_images\n",
    "test_data = generate_data(test_images)\n",
    "\n",
    "def evaluate(result_tensor, data_placeholder):\n",
    "    \"\"\"Evaluate a reconstruction method.\n",
    "\n",
    "    Parameters\n",
    "    ----------\n",
    "    result_tensor : `tf.Tensor`, shape (None, 28, 28, 1)\n",
    "        The tensorflow tensor containing the result of the reonstruction\n",
    "        operator.\n",
    "    data_placeholder : `tf.Tensor`, shape (None, 5, 41, 1)\n",
    "        The tensorflow tensor containing the input to the reconstruction\n",
    "        operator.\n",
    "\n",
    "    Returns\n",
    "    -------\n",
    "    MSE : float\n",
    "        Mean squared error of the reconstruction.\n",
    "    \"\"\"\n",
    "    result = result_tensor.eval(\n",
    "        feed_dict={data_placeholder: test_data})\n",
    "\n",
    "    return np.mean((result - test_images) ** 2)"
   ]
  },
  {
   "cell_type": "code",
   "execution_count": 7,
   "metadata": {
    "collapsed": true,
    "scrolled": true
   },
   "outputs": [],
   "source": [
    "def visualize(result_tensor, data_placeholder):\n",
    "    \"\"\"Visualize the result of a reconstruction.\n",
    "    \n",
    "    Parameters\n",
    "    ----------\n",
    "    result_tensor : `tf.Tensor`, shape (None, 28, 28, 1)\n",
    "        The tensorflow tensor containing the result of the reonstruction\n",
    "        operator.\n",
    "    data_placeholder : `tf.Tensor`, shape (None, 5, 41, 1)\n",
    "        The tensorflow tensor containing the input to the reconstruction\n",
    "        operator.\n",
    "    \"\"\"\n",
    "    result = result_tensor.eval(\n",
    "        feed_dict={data_placeholder: test_data[0:1]})\n",
    "    \n",
    "    fig, ax = plt.subplots(1, 2)\n",
    "    ax[0].imshow(test_images[0:1].squeeze(), clim=[0, 1], cmap='bone')\n",
    "    ax[0].set_title('truth')\n",
    "    ax[0].set_axis_off()\n",
    "    ax[1].imshow(result.squeeze(), clim=[0, 1], cmap='bone')\n",
    "    ax[1].set_title('reconstruction')\n",
    "    ax[1].set_axis_off()\n",
    "    plt.show()"
   ]
  },
  {
   "cell_type": "code",
   "execution_count": 8,
   "metadata": {
    "collapsed": true,
    "scrolled": true
   },
   "outputs": [],
   "source": [
    "# Create placeholders. Placeholders are needed in tensorflow since tensorflow is a lazy language,\n",
    "# and hence we first define the computational graph with placeholders as input, and later we evaluate it.\n",
    "with tf.name_scope('placeholders'):\n",
    "    x_true = tf.placeholder(tf.float32, shape=[None, 28, 28, 1], name=\"x_true\")\n",
    "    y = tf.placeholder(tf.float32, shape=[None, *operator.range.shape, 1], name=\"y\")"
   ]
  },
  {
   "cell_type": "code",
   "execution_count": 9,
   "metadata": {
    "scrolled": true
   },
   "outputs": [
    {
     "name": "stdout",
     "output_type": "stream",
     "text": [
      "FBP Mean squared error: 0.151120126247406\n"
     ]
    },
    {
     "data": {
      "image/png": "[encoded data removed]",
      "text/plain": [
       "<matplotlib.figure.Figure at 0x1e32a49fd30>"
      ]
     },
     "metadata": {},
     "output_type": "display_data"
    }
   ],
   "source": [
    "# Use the evaluator on the FBP reconstruction as a baseline\n",
    "print('FBP Mean squared error: {}'.format(evaluate(tf_fbp_op(y), y)))\n",
    "visualize(tf_fbp_op(y), y)"
   ]
  },
  {
   "cell_type": "markdown",
   "metadata": {},
   "source": [
    "# Fully Learned Reconstruction\n",
    "\n",
    "The most straight-forward example of a learned reconstruction method is the fully-learned reconstruction. In this method, we use a fully-connected neural network to map data to reconstruction, using no information about the forward operator."
   ]
  },
  {
   "cell_type": "code",
   "execution_count": 10,
   "metadata": {
    "scrolled": true
   },
   "outputs": [
    {
     "name": "stdout",
     "output_type": "stream",
     "text": [
      "0 Mean squared error: 0.5953527688980103\n",
      "100 Mean squared error: 0.05861716344952583\n",
      "200 Mean squared error: 0.045941390097141266\n",
      "300 Mean squared error: 0.040254682302474976\n",
      "400 Mean squared error: 0.037129614502191544\n",
      "500 Mean squared error: 0.03498728200793266\n",
      "600 Mean squared error: 0.03431195393204689\n",
      "700 Mean squared error: 0.03212343156337738\n",
      "800 Mean squared error: 0.03226018324494362\n",
      "900 Mean squared error: 0.03140461817383766\n",
      "1000 Mean squared error: 0.030884969979524612\n",
      "1100 Mean squared error: 0.031200217083096504\n",
      "1200 Mean squared error: 0.030378911644220352\n",
      "1300 Mean squared error: 0.029830843210220337\n",
      "1400 Mean squared error: 0.028864746913313866\n",
      "1500 Mean squared error: 0.02912098355591297\n",
      "1600 Mean squared error: 0.02908375859260559\n",
      "1700 Mean squared error: 0.029261965304613113\n",
      "1800 Mean squared error: 0.02772187814116478\n",
      "1900 Mean squared error: 0.02794860303401947\n",
      "2000 Mean squared error: 0.02769533544778824\n",
      "2100 Mean squared error: 0.027971796691417694\n",
      "2200 Mean squared error: 0.02763858251273632\n",
      "2300 Mean squared error: 0.02726798504590988\n",
      "2400 Mean squared error: 0.02770206704735756\n",
      "2500 Mean squared error: 0.028199568390846252\n",
      "2600 Mean squared error: 0.027784889563918114\n",
      "2700 Mean squared error: 0.027475008741021156\n",
      "2800 Mean squared error: 0.026912180706858635\n",
      "2900 Mean squared error: 0.027966530993580818\n",
      "3000 Mean squared error: 0.027414066717028618\n",
      "3100 Mean squared error: 0.026817593723535538\n",
      "3200 Mean squared error: 0.02741946093738079\n",
      "3300 Mean squared error: 0.026954272761940956\n",
      "3400 Mean squared error: 0.026938972994685173\n",
      "3500 Mean squared error: 0.0269631315022707\n",
      "3600 Mean squared error: 0.02630673721432686\n",
      "3700 Mean squared error: 0.027197062969207764\n",
      "3800 Mean squared error: 0.02684064768254757\n",
      "3900 Mean squared error: 0.02656959742307663\n",
      "4000 Mean squared error: 0.025964856147766113\n",
      "4100 Mean squared error: 0.02663714438676834\n",
      "4200 Mean squared error: 0.026300404220819473\n",
      "4300 Mean squared error: 0.026819637045264244\n",
      "4400 Mean squared error: 0.026571810245513916\n",
      "4500 Mean squared error: 0.026378432288765907\n",
      "4600 Mean squared error: 0.02672339603304863\n",
      "4700 Mean squared error: 0.02646680735051632\n",
      "4800 Mean squared error: 0.026516640558838844\n",
      "4900 Mean squared error: 0.0260318610817194\n",
      "5000 Mean squared error: 0.026311712339520454\n",
      "5100 Mean squared error: 0.026700742542743683\n",
      "5200 Mean squared error: 0.026165274903178215\n",
      "5300 Mean squared error: 0.027438636869192123\n",
      "5400 Mean squared error: 0.026173627004027367\n",
      "5500 Mean squared error: 0.026170803233981133\n",
      "5600 Mean squared error: 0.02645920030772686\n",
      "5700 Mean squared error: 0.026371201500296593\n",
      "5800 Mean squared error: 0.02588602900505066\n",
      "5900 Mean squared error: 0.025987658649683\n",
      "6000 Mean squared error: 0.026203041896224022\n",
      "6100 Mean squared error: 0.02608649991452694\n",
      "6200 Mean squared error: 0.026051180437207222\n",
      "6300 Mean squared error: 0.02601352520287037\n",
      "6400 Mean squared error: 0.025688959285616875\n",
      "6500 Mean squared error: 0.025827886536717415\n",
      "6600 Mean squared error: 0.026045480743050575\n",
      "6700 Mean squared error: 0.02563074789941311\n",
      "6800 Mean squared error: 0.02579669840633869\n",
      "6900 Mean squared error: 0.025639820843935013\n",
      "7000 Mean squared error: 0.02596885710954666\n",
      "7100 Mean squared error: 0.025822600349783897\n",
      "7200 Mean squared error: 0.02556300349533558\n",
      "7300 Mean squared error: 0.02572685107588768\n",
      "7400 Mean squared error: 0.02596462517976761\n",
      "7500 Mean squared error: 0.02610773779451847\n",
      "7600 Mean squared error: 0.026034729555249214\n",
      "7700 Mean squared error: 0.025429800152778625\n",
      "7800 Mean squared error: 0.02573956921696663\n",
      "7900 Mean squared error: 0.025404825806617737\n",
      "8000 Mean squared error: 0.025757698342204094\n",
      "8100 Mean squared error: 0.025487402454018593\n",
      "8200 Mean squared error: 0.025439374148845673\n",
      "8300 Mean squared error: 0.025365488603711128\n",
      "8400 Mean squared error: 0.025926707312464714\n",
      "8500 Mean squared error: 0.02579611726105213\n",
      "8600 Mean squared error: 0.025559134781360626\n",
      "8700 Mean squared error: 0.02550789713859558\n",
      "8800 Mean squared error: 0.025402549654245377\n",
      "8900 Mean squared error: 0.025299029424786568\n",
      "9000 Mean squared error: 0.02540312521159649\n",
      "9100 Mean squared error: 0.025390183553099632\n",
      "9200 Mean squared error: 0.025133363902568817\n",
      "9300 Mean squared error: 0.024964073672890663\n",
      "9400 Mean squared error: 0.025417568162083626\n",
      "9500 Mean squared error: 0.025489723309874535\n",
      "9600 Mean squared error: 0.025396965444087982\n",
      "9700 Mean squared error: 0.025226784870028496\n",
      "9800 Mean squared error: 0.02537056803703308\n",
      "9900 Mean squared error: 0.025301067158579826\n"
     ]
    }
   ],
   "source": [
    "with tf.name_scope('fully_learned_reconstruction'):\n",
    "    x = tf.contrib.layers.flatten(y)\n",
    "\n",
    "    x = tf.contrib.layers.fully_connected(x, num_outputs=1024)\n",
    "    x = tf.contrib.layers.fully_connected(x, num_outputs=1024)\n",
    "    x = tf.contrib.layers.fully_connected(x, num_outputs=28 * 28,\n",
    "                                          activation_fn=None)\n",
    "\n",
    "    x_result_fully = tf.reshape(x, [-1, 28, 28, 1])\n",
    "\n",
    "with tf.name_scope('optimizer'):\n",
    "    loss = tf.reduce_mean((x_result_fully - x_true) ** 2)\n",
    "    optimizer = tf.train.AdamOptimizer().minimize(loss)\n",
    "\n",
    "# Initialize all TF variables\n",
    "session.run(tf.global_variables_initializer())\n",
    "\n",
    "for i in range(10000):\n",
    "    batch = mnist.train.next_batch(5)\n",
    "    images = batch[0].reshape([-1, 28, 28, 1])\n",
    "    data = generate_data(images)\n",
    "\n",
    "    session.run(optimizer, feed_dict={x_true: images, y: data})\n",
    "\n",
    "    if i % 100 == 0:\n",
    "        print('{} Mean squared error: {}'.format(\n",
    "                i, evaluate(x_result_fully, y)))"
   ]
  },
  {
   "cell_type": "code",
   "execution_count": 11,
   "metadata": {
    "scrolled": true
   },
   "outputs": [
    {
     "data": {
      "image/png": "[encoded data removed]",
      "text/plain": [
       "<matplotlib.figure.Figure at 0x1e330824a90>"
      ]
     },
     "metadata": {},
     "output_type": "display_data"
    }
   ],
   "source": [
    "visualize(x_result_fully, y)"
   ]
  },
  {
   "cell_type": "markdown",
   "metadata": {},
   "source": [
    "# FBP + Learned denoiser\n",
    "\n",
    "A more efficient method is to first compute some initial reconstruction (here, a filtered back-projection) and then learn how to improve that reconstruction. By doing this, we only need to learn in image space and can thus use very strong tools from machine learning, including convolutional neural networks."
   ]
  },
  {
   "cell_type": "code",
   "execution_count": 12,
   "metadata": {
    "scrolled": true
   },
   "outputs": [
    {
     "name": "stdout",
     "output_type": "stream",
     "text": [
      "0 Mean squared error: 0.1355559080839157\n",
      "100 Mean squared error: 0.02441990189254284\n",
      "200 Mean squared error: 0.023730481043457985\n",
      "300 Mean squared error: 0.02282790094614029\n",
      "400 Mean squared error: 0.02228088304400444\n",
      "500 Mean squared error: 0.021786922588944435\n",
      "600 Mean squared error: 0.02128434181213379\n",
      "700 Mean squared error: 0.020961469039320946\n",
      "800 Mean squared error: 0.02064932882785797\n",
      "900 Mean squared error: 0.020613348111510277\n",
      "1000 Mean squared error: 0.020486745983362198\n",
      "1100 Mean squared error: 0.020675161853432655\n",
      "1200 Mean squared error: 0.02013031207025051\n",
      "1300 Mean squared error: 0.0201070886105299\n",
      "1400 Mean squared error: 0.020035792142152786\n",
      "1500 Mean squared error: 0.020014464855194092\n",
      "1600 Mean squared error: 0.01993253454566002\n",
      "1700 Mean squared error: 0.020192602649331093\n",
      "1800 Mean squared error: 0.019910408183932304\n",
      "1900 Mean squared error: 0.01998896896839142\n",
      "2000 Mean squared error: 0.019928673282265663\n",
      "2100 Mean squared error: 0.019890468567609787\n",
      "2200 Mean squared error: 0.020559899508953094\n",
      "2300 Mean squared error: 0.019875092431902885\n",
      "2400 Mean squared error: 0.019745932891964912\n",
      "2500 Mean squared error: 0.01973533257842064\n",
      "2600 Mean squared error: 0.019758308306336403\n",
      "2700 Mean squared error: 0.020297735929489136\n",
      "2800 Mean squared error: 0.019651398062705994\n",
      "2900 Mean squared error: 0.019666513428092003\n",
      "3000 Mean squared error: 0.01965385302901268\n",
      "3100 Mean squared error: 0.019605254754424095\n",
      "3200 Mean squared error: 0.019963108003139496\n",
      "3300 Mean squared error: 0.019632874056696892\n",
      "3400 Mean squared error: 0.019642896950244904\n",
      "3500 Mean squared error: 0.01965980790555477\n",
      "3600 Mean squared error: 0.019509531557559967\n",
      "3700 Mean squared error: 0.019797934219241142\n",
      "3800 Mean squared error: 0.019540557637810707\n",
      "3900 Mean squared error: 0.0195423923432827\n",
      "4000 Mean squared error: 0.01946871727705002\n",
      "4100 Mean squared error: 0.019541068002581596\n",
      "4200 Mean squared error: 0.01946725882589817\n",
      "4300 Mean squared error: 0.01952308416366577\n",
      "4400 Mean squared error: 0.01952403038740158\n",
      "4500 Mean squared error: 0.019652366638183594\n",
      "4600 Mean squared error: 0.020341837778687477\n",
      "4700 Mean squared error: 0.019429704174399376\n",
      "4800 Mean squared error: 0.01946880668401718\n",
      "4900 Mean squared error: 0.019475571811199188\n",
      "5000 Mean squared error: 0.019407641142606735\n",
      "5100 Mean squared error: 0.01934994012117386\n",
      "5200 Mean squared error: 0.019513102248311043\n",
      "5300 Mean squared error: 0.019507024437189102\n",
      "5400 Mean squared error: 0.01931879110634327\n",
      "5500 Mean squared error: 0.020184343680739403\n",
      "5600 Mean squared error: 0.019390897825360298\n",
      "5700 Mean squared error: 0.019416555762290955\n",
      "5800 Mean squared error: 0.019990621134638786\n",
      "5900 Mean squared error: 0.01943238452076912\n",
      "6000 Mean squared error: 0.019318385049700737\n",
      "6100 Mean squared error: 0.01944742538034916\n",
      "6200 Mean squared error: 0.019352128729224205\n",
      "6300 Mean squared error: 0.019588138908147812\n",
      "6400 Mean squared error: 0.019258767366409302\n",
      "6500 Mean squared error: 0.01959838531911373\n",
      "6600 Mean squared error: 0.019465571269392967\n",
      "6700 Mean squared error: 0.01934843510389328\n",
      "6800 Mean squared error: 0.019329316914081573\n",
      "6900 Mean squared error: 0.019352639093995094\n",
      "7000 Mean squared error: 0.019397281110286713\n",
      "7100 Mean squared error: 0.01936633698642254\n",
      "7200 Mean squared error: 0.019312601536512375\n",
      "7300 Mean squared error: 0.019362665712833405\n",
      "7400 Mean squared error: 0.01943950355052948\n",
      "7500 Mean squared error: 0.019400164484977722\n",
      "7600 Mean squared error: 0.019276415929198265\n",
      "7700 Mean squared error: 0.01925087906420231\n",
      "7800 Mean squared error: 0.019385090097784996\n",
      "7900 Mean squared error: 0.019239608198404312\n",
      "8000 Mean squared error: 0.01958433724939823\n",
      "8100 Mean squared error: 0.01928047090768814\n",
      "8200 Mean squared error: 0.019207527860999107\n",
      "8300 Mean squared error: 0.019384507089853287\n",
      "8400 Mean squared error: 0.019296016544103622\n",
      "8500 Mean squared error: 0.019200202077627182\n",
      "8600 Mean squared error: 0.019195280969142914\n",
      "8700 Mean squared error: 0.019469834864139557\n",
      "8800 Mean squared error: 0.019346745684742928\n",
      "8900 Mean squared error: 0.019247449934482574\n",
      "9000 Mean squared error: 0.01932097040116787\n",
      "9100 Mean squared error: 0.0193172674626112\n",
      "9200 Mean squared error: 0.019245130941271782\n",
      "9300 Mean squared error: 0.01925591193139553\n",
      "9400 Mean squared error: 0.01941470056772232\n",
      "9500 Mean squared error: 0.019212497398257256\n",
      "9600 Mean squared error: 0.01935761049389839\n",
      "9700 Mean squared error: 0.019212912768125534\n",
      "9800 Mean squared error: 0.019142163917422295\n",
      "9900 Mean squared error: 0.020017245784401894\n"
     ]
    }
   ],
   "source": [
    "with tf.name_scope('learned_denoiser'):\n",
    "    x = tf_fbp_op(y)\n",
    "\n",
    "    x = tf.contrib.layers.conv2d(x, num_outputs=32, kernel_size=3)\n",
    "    x = tf.contrib.layers.conv2d(x, num_outputs=32, kernel_size=3)\n",
    "    x = tf.contrib.layers.conv2d(x, num_outputs=1, kernel_size=1,\n",
    "                                 activation_fn=None)\n",
    "\n",
    "    x_result_denoise = x\n",
    "\n",
    "with tf.name_scope('optimizer'):\n",
    "    loss = tf.reduce_mean((x_result_denoise - x_true) ** 2)\n",
    "    optimizer = tf.train.AdamOptimizer().minimize(loss)\n",
    "\n",
    "# Initialize all TF variables\n",
    "session.run(tf.global_variables_initializer())\n",
    "\n",
    "for i in range(10000):\n",
    "    batch = mnist.train.next_batch(5)\n",
    "    images = batch[0].reshape([-1, 28, 28, 1])\n",
    "    data = generate_data(images)\n",
    "\n",
    "    session.run(optimizer, feed_dict={x_true: images, y: data})\n",
    "\n",
    "    if i % 100 == 0:\n",
    "        print('{} Mean squared error: {}'.format(\n",
    "                i, evaluate(x_result_denoise, y)))"
   ]
  },
  {
   "cell_type": "code",
   "execution_count": 13,
   "metadata": {
    "scrolled": true
   },
   "outputs": [
    {
     "data": {
      "image/png": "[encoded data removed]",
      "text/plain": [
       "<matplotlib.figure.Figure at 0x1e33063def0>"
      ]
     },
     "metadata": {},
     "output_type": "display_data"
    }
   ],
   "source": [
    "visualize(x_result_denoise, y)"
   ]
  },
  {
   "cell_type": "markdown",
   "metadata": {},
   "source": [
    "# Learned Primal-Dual\n",
    "\n",
    "In Learned Primal-Dual reconstruction, we embed the forward operator into a neural network and use it as a component in the neural network. By doing so, we can learn in both reconstruction and in data space, and we can use convolutional networks in both of them."
   ]
  },
  {
   "cell_type": "code",
   "execution_count": 14,
   "metadata": {
    "scrolled": true
   },
   "outputs": [
    {
     "name": "stdout",
     "output_type": "stream",
     "text": [
      "0 Mean squared error: 9.938268661499023\n",
      "100 Mean squared error: 0.06742943823337555\n",
      "200 Mean squared error: 0.05295763537287712\n",
      "300 Mean squared error: 0.047365907579660416\n",
      "400 Mean squared error: 0.043527837842702866\n",
      "500 Mean squared error: 0.04096687212586403\n",
      "600 Mean squared error: 0.03813368082046509\n",
      "700 Mean squared error: 0.03569275513291359\n",
      "800 Mean squared error: 0.03316299244761467\n",
      "900 Mean squared error: 0.031654682010412216\n",
      "1000 Mean squared error: 0.031051138415932655\n",
      "1100 Mean squared error: 0.029832402244210243\n",
      "1200 Mean squared error: 0.02908938378095627\n",
      "1300 Mean squared error: 0.02846803516149521\n",
      "1400 Mean squared error: 0.028568124398589134\n",
      "1500 Mean squared error: 0.02913379669189453\n",
      "1600 Mean squared error: 0.028141804039478302\n",
      "1700 Mean squared error: 0.026834353804588318\n",
      "1800 Mean squared error: 0.028223246335983276\n",
      "1900 Mean squared error: 0.026741208508610725\n",
      "2000 Mean squared error: 0.025722945109009743\n",
      "2100 Mean squared error: 0.02563689835369587\n",
      "2200 Mean squared error: 0.02565051056444645\n",
      "2300 Mean squared error: 0.02482132613658905\n",
      "2400 Mean squared error: 0.02442992478609085\n",
      "2500 Mean squared error: 0.024131476879119873\n",
      "2600 Mean squared error: 0.023547232151031494\n",
      "2700 Mean squared error: 0.023138783872127533\n",
      "2800 Mean squared error: 0.022883642464876175\n",
      "2900 Mean squared error: 0.02285842038691044\n",
      "3000 Mean squared error: 0.022049402818083763\n",
      "3100 Mean squared error: 0.021949682384729385\n",
      "3200 Mean squared error: 0.021595684811472893\n",
      "3300 Mean squared error: 0.021071219816803932\n",
      "3400 Mean squared error: 0.02073349989950657\n",
      "3500 Mean squared error: 0.020503664389252663\n",
      "3600 Mean squared error: 0.020633986219763756\n",
      "3700 Mean squared error: 0.02014234848320484\n",
      "3800 Mean squared error: 0.019808640703558922\n",
      "3900 Mean squared error: 0.01989748328924179\n",
      "4000 Mean squared error: 0.019480587914586067\n",
      "4100 Mean squared error: 0.019280899316072464\n",
      "4200 Mean squared error: 0.019379282370209694\n",
      "4300 Mean squared error: 0.018938135355710983\n",
      "4400 Mean squared error: 0.01982785575091839\n",
      "4500 Mean squared error: 0.018665997311472893\n",
      "4600 Mean squared error: 0.018606023862957954\n",
      "4700 Mean squared error: 0.018247364088892937\n",
      "4800 Mean squared error: 0.01915399730205536\n",
      "4900 Mean squared error: 0.01882142387330532\n",
      "5000 Mean squared error: 0.01795082353055477\n",
      "5100 Mean squared error: 0.017760517075657845\n",
      "5200 Mean squared error: 0.017649367451667786\n",
      "5300 Mean squared error: 0.017944086343050003\n",
      "5400 Mean squared error: 0.017894674092531204\n",
      "5500 Mean squared error: 0.017469283193349838\n",
      "5600 Mean squared error: 0.01744041033089161\n",
      "5700 Mean squared error: 0.017336007207632065\n",
      "5800 Mean squared error: 0.01738838292658329\n",
      "5900 Mean squared error: 0.01715247519314289\n",
      "6000 Mean squared error: 0.017356881871819496\n",
      "6100 Mean squared error: 0.017250780016183853\n",
      "6200 Mean squared error: 0.017514294013381004\n",
      "6300 Mean squared error: 0.017097312957048416\n",
      "6400 Mean squared error: 0.017782533541321754\n",
      "6500 Mean squared error: 0.018206123262643814\n",
      "6600 Mean squared error: 0.018298102542757988\n",
      "6700 Mean squared error: 0.01680903509259224\n",
      "6800 Mean squared error: 0.017620064318180084\n",
      "6900 Mean squared error: 0.016793400049209595\n",
      "7000 Mean squared error: 0.016715191304683685\n",
      "7100 Mean squared error: 0.017256854102015495\n",
      "7200 Mean squared error: 0.016429048031568527\n",
      "7300 Mean squared error: 0.016363609582185745\n",
      "7400 Mean squared error: 0.016735827550292015\n",
      "7500 Mean squared error: 0.016360905021429062\n",
      "7600 Mean squared error: 0.016651270911097527\n",
      "7700 Mean squared error: 0.016340484842658043\n",
      "7800 Mean squared error: 0.016214564442634583\n",
      "7900 Mean squared error: 0.016342049464583397\n",
      "8000 Mean squared error: 0.01620747148990631\n",
      "8100 Mean squared error: 0.01631496101617813\n",
      "8200 Mean squared error: 0.016261013224720955\n",
      "8300 Mean squared error: 0.016318783164024353\n",
      "8400 Mean squared error: 0.018072528764605522\n",
      "8500 Mean squared error: 0.01602357067167759\n",
      "8600 Mean squared error: 0.0160647165030241\n",
      "8700 Mean squared error: 0.016357986256480217\n",
      "8800 Mean squared error: 0.01599723845720291\n",
      "8900 Mean squared error: 0.016125831753015518\n",
      "9000 Mean squared error: 0.01579483039677143\n",
      "9100 Mean squared error: 0.01587264984846115\n",
      "9200 Mean squared error: 0.016600729897618294\n",
      "9300 Mean squared error: 0.015882067382335663\n",
      "9400 Mean squared error: 0.01577005721628666\n",
      "9500 Mean squared error: 0.015825387090444565\n",
      "9600 Mean squared error: 0.016807284206151962\n",
      "9700 Mean squared error: 0.01583118550479412\n",
      "9800 Mean squared error: 0.01596381701529026\n",
      "9900 Mean squared error: 0.01576126366853714\n"
     ]
    }
   ],
   "source": [
    "with tf.name_scope('learned_primal_dual'):\n",
    "    primal = tf_fbp_op(y)\n",
    "    dual = tf.identity(y)\n",
    "    \n",
    "    for i in range(1):\n",
    "        dy = tf.concat([dual, tf_op(primal)], axis=-1)\n",
    "        dy = tf.contrib.layers.conv2d(dy, num_outputs=32, kernel_size=3)\n",
    "        dy = tf.contrib.layers.conv2d(dy, num_outputs=1, kernel_size=3,\n",
    "                                      activation_fn=None)\n",
    "        dual = dual + dy\n",
    "\n",
    "        dx = tf.concat([primal, tf_op_adj(dual)], axis=-1)\n",
    "        dx = tf.contrib.layers.conv2d(dx, num_outputs=32, kernel_size=3)\n",
    "        dx = tf.contrib.layers.conv2d(dx, num_outputs=1, kernel_size=3,\n",
    "                                      activation_fn=None)\n",
    "        primal = primal + dx\n",
    "    \n",
    "    x_result_lpd = primal\n",
    "\n",
    "with tf.name_scope('optimizer'):\n",
    "    loss = tf.reduce_mean((x_result_lpd - x_true) ** 2)\n",
    "    optimizer = tf.train.AdamOptimizer().minimize(loss)\n",
    "\n",
    "# Initialize all TF variables\n",
    "session.run(tf.global_variables_initializer())\n",
    "\n",
    "for i in range(10000):\n",
    "    batch = mnist.train.next_batch(5)\n",
    "    images = batch[0].reshape([-1, 28, 28, 1])\n",
    "    data = generate_data(images)\n",
    "\n",
    "    session.run(optimizer, feed_dict={x_true: images, y: data})\n",
    "\n",
    "    if i % 100 == 0:\n",
    "        print('{} Mean squared error: {}'.format(\n",
    "                i, evaluate(x_result_lpd, y)))"
   ]
  },
  {
   "cell_type": "code",
   "execution_count": 15,
   "metadata": {
    "scrolled": true
   },
   "outputs": [
    {
     "data": {
      "image/png": "[encoded data removed]",
      "text/plain": [
       "<matplotlib.figure.Figure at 0x1e3316494e0>"
      ]
     },
     "metadata": {},
     "output_type": "display_data"
    }
   ],
   "source": [
    "visualize(x_result_lpd, y)"
   ]
  }
 ],
 "metadata": {
  "kernelspec": {
   "display_name": "Python 3",
   "language": "python",
   "name": "python3"
  },
  "language_info": {
   "codemirror_mode": {
    "name": "ipython",
    "version": 3
   },
   "file_extension": ".py",
   "mimetype": "text/x-python",
   "name": "python",
   "nbconvert_exporter": "python",
   "pygments_lexer": "ipython3",
   "version": "3.5.3"
  }
 },
 "nbformat": 4,
 "nbformat_minor": 2
}
